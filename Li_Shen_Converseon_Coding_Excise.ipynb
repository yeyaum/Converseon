{
 "cells": [
  {
   "cell_type": "markdown",
   "metadata": {},
   "source": [
    "# Load and transform the training data "
   ]
  },
  {
   "cell_type": "code",
   "execution_count": null,
   "metadata": {
    "collapsed": true
   },
   "outputs": [],
   "source": [
    "# A function to load and transform the json file as the training pandas data frame\n",
    "# Create a feature data frame (train_X) and a target Series (train_y)\n",
    "def load_data(path):\n",
    "    import json\n",
    "    import pandas as pd\n",
    "    with open(path) as data_file:    \n",
    "        data = json.load(data_file)\n",
    "\n",
    "    df = pd.DataFrame(columns=data['feature-space']+['flowers'])\n",
    "\n",
    "    i = 0;\n",
    "    for x in data['training-records']:\n",
    "        df.loc[i]=(x['features']+[x['label']])\n",
    "        i=i+1\n",
    "    train_X=df.iloc[:,0:4]\n",
    "    train_y=df.iloc[:,4]\n",
    "    return train_X, train_y"
   ]
  },
  {
   "cell_type": "code",
   "execution_count": null,
   "metadata": {
    "collapsed": false
   },
   "outputs": [],
   "source": [
    "# Read the json data by change the path to where you store the training data\n",
    "path='/Users/yeyaum/Desktop/interview-01/iris.json'\n",
    "train_X=load_data(path)[0]\n",
    "train_y=load_data(path)[1]\n",
    "#type(train_y)"
   ]
  },
  {
   "cell_type": "markdown",
   "metadata": {},
   "source": [
    "# Create a FlowerTrainer object to train a model using the training data and then saves that model to a file"
   ]
  },
  {
   "cell_type": "code",
   "execution_count": null,
   "metadata": {
    "collapsed": false
   },
   "outputs": [],
   "source": [
    "class FlowerTrainer:\n",
    "        \n",
    "    def train(self,train_X,train_y):\n",
    "        '''\n",
    "        Given a dataframe contains features and a dataframe contains targets.\n",
    "        Return a fitted KNN model\n",
    "        '''\n",
    "        from sklearn.neighbors import KNeighborsClassifier \n",
    "        model=KNeighborsClassifier(n_neighbors=3)\n",
    "        return model.fit(train_X,train_y)\n",
    "    \n",
    "    def save(self,model):\n",
    "        '''\n",
    "        Save the fitted KNN model on file system\n",
    "        '''\n",
    "        import pickle\n",
    "        filename='fitted_model.sav'\n",
    "        return pickle.dump(model,open(filename,'wb'))"
   ]
  },
  {
   "cell_type": "markdown",
   "metadata": {},
   "source": [
    "# Create a FlowerClassifier object to label some input data"
   ]
  },
  {
   "cell_type": "code",
   "execution_count": null,
   "metadata": {
    "collapsed": false
   },
   "outputs": [],
   "source": [
    "class FlowerClassifier:\n",
    "    def load(self,filename):\n",
    "        '''\n",
    "        Load the model from training\n",
    "        '''\n",
    "        import pickle\n",
    "        loaded_model=pickle.load(open(filename,'rb'))\n",
    "        return loaded_model\n",
    "    \n",
    "    def predict(self,path):\n",
    "        '''\n",
    "        Load and transform the test data set from a json file to a pandas data frame.\n",
    "        Predict the flower type by fitting the test data to the model from training.\n",
    "        Save the prediction to a json file names 'iris_prediction.json'\n",
    "        '''\n",
    "        with open(path) as data_file:    \n",
    "            data = json.load(data_file)\n",
    "\n",
    "        df = pd.DataFrame(columns=['sepal_length','sepal_width','petal_length','petal_width'])\n",
    "\n",
    "        i = 0;\n",
    "        for x in data['input-records']:\n",
    "            df.loc[i]=x['features']\n",
    "            i=i+1\n",
    "        prediction=pd.DataFrame(loaded_model.predict(df),columns=['flowers'])\n",
    "        pred_json=pd.DataFrame.to_json(prediction)\n",
    "        with open('iris_prediction.json', 'w') as f:\n",
    "            json.dump(pred_json, f)"
   ]
  }
 ],
 "metadata": {
  "kernelspec": {
   "display_name": "Python 2",
   "language": "python",
   "name": "python2"
  },
  "language_info": {
   "codemirror_mode": {
    "name": "ipython",
    "version": 2
   },
   "file_extension": ".py",
   "mimetype": "text/x-python",
   "name": "python",
   "nbconvert_exporter": "python",
   "pygments_lexer": "ipython2",
   "version": "2.7.11"
  }
 },
 "nbformat": 4,
 "nbformat_minor": 0
}
